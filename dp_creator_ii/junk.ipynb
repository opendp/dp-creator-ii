{
 "cells": [
  {
   "cell_type": "code",
   "execution_count": 26,
   "metadata": {},
   "outputs": [
    {
     "data": {
      "text/html": [
       "<div><style>\n",
       ".dataframe > thead > tr,\n",
       ".dataframe > tbody > tr {\n",
       "  text-align: right;\n",
       "  white-space: pre-wrap;\n",
       "}\n",
       "</style>\n",
       "<small>shape: (20, 2)</small><table border=\"1\" class=\"dataframe\"><thead><tr><th>col_0_100</th><th>col_neg_pos</th></tr><tr><td>f64</td><td>f64</td></tr></thead><tbody><tr><td>1.628922</td><td>-9.674216</td></tr><tr><td>8.231443</td><td>-8.353711</td></tr><tr><td>14.175125</td><td>-7.164975</td></tr><tr><td>19.650658</td><td>-6.069868</td></tr><tr><td>24.783898</td><td>-5.04322</td></tr><tr><td>&hellip;</td><td>&hellip;</td></tr><tr><td>75.216102</td><td>5.04322</td></tr><tr><td>80.349342</td><td>6.069868</td></tr><tr><td>85.824875</td><td>7.164975</td></tr><tr><td>91.768557</td><td>8.353711</td></tr><tr><td>98.371078</td><td>9.674216</td></tr></tbody></table></div>"
      ],
      "text/plain": [
       "shape: (20, 2)\n",
       "┌───────────┬─────────────┐\n",
       "│ col_0_100 ┆ col_neg_pos │\n",
       "│ ---       ┆ ---         │\n",
       "│ f64       ┆ f64         │\n",
       "╞═══════════╪═════════════╡\n",
       "│ 1.628922  ┆ -9.674216   │\n",
       "│ 8.231443  ┆ -8.353711   │\n",
       "│ 14.175125 ┆ -7.164975   │\n",
       "│ 19.650658 ┆ -6.069868   │\n",
       "│ 24.783898 ┆ -5.04322    │\n",
       "│ …         ┆ …           │\n",
       "│ 75.216102 ┆ 5.04322     │\n",
       "│ 80.349342 ┆ 6.069868    │\n",
       "│ 85.824875 ┆ 7.164975    │\n",
       "│ 91.768557 ┆ 8.353711    │\n",
       "│ 98.371078 ┆ 9.674216    │\n",
       "└───────────┴─────────────┘"
      ]
     },
     "execution_count": 26,
     "metadata": {},
     "output_type": "execute_result"
    }
   ],
   "source": [
    "from dp_creator_ii.mock_data import mock_data, ColumnDef\n",
    "\n",
    "col_0_100 = ColumnDef(0, 100)\n",
    "col_neg_pos = ColumnDef(-10, 10)\n",
    "df = mock_data({\"col_0_100\": col_0_100, \"col_neg_pos\": col_neg_pos}, row_count=20)\n",
    "df\n"
   ]
  },
  {
   "cell_type": "code",
   "execution_count": 27,
   "metadata": {},
   "outputs": [
    {
     "data": {
      "image/png": "[encoded data removed]",
      "text/plain": [
       "<Figure size 200x200 with 1 Axes>"
      ]
     },
     "metadata": {},
     "output_type": "display_data"
    }
   ],
   "source": [
    "import matplotlib.pyplot as plt\n",
    "import numpy as np\n",
    "\n",
    "# plt.style.use('_mpl-gallery')\n",
    "\n",
    "# make data:\n",
    "y = df['col_0_100'].to_list()\n",
    "x = 0.5 + np.arange(len(y))\n",
    "\n",
    "# plot\n",
    "_figure, axes = plt.subplots()\n",
    "\n",
    "axes.bar(x, y, width=1, edgecolor=\"white\", linewidth=0.7, yerr=2)\n",
    "\n",
    "axes.set(xlim=(0, 20),\n",
    "       ylim=(0, 100))\n",
    "axes.get_yaxis().set_ticks([])\n",
    "plt.show()"
   ]
  },
  {
   "cell_type": "code",
   "execution_count": null,
   "metadata": {},
   "outputs": [],
   "source": []
  }
 ],
 "metadata": {
  "kernelspec": {
   "display_name": ".venv",
   "language": "python",
   "name": "python3"
  },
  "language_info": {
   "codemirror_mode": {
    "name": "ipython",
    "version": 3
   },
   "file_extension": ".py",
   "mimetype": "text/x-python",
   "name": "python",
   "nbconvert_exporter": "python",
   "pygments_lexer": "ipython3",
   "version": "3.12.3"
  }
 },
 "nbformat": 4,
 "nbformat_minor": 2
}
