{
 "cells": [
  {
   "cell_type": "markdown",
   "metadata": {},
   "source": [
    "This is just to demonstrate how the analysis will work for the POC, and also to show what the final exported notebook will look like. When that is implemented, get rid of this!\n",
    "\n",
    "First, generate a fake dataset. In the future, let's check it in and use it if the [`--demo` flag](https://github.com/opendp/dp-creator-ii/issues/7) is given."
   ]
  },
  {
   "cell_type": "code",
   "execution_count": 194,
   "metadata": {},
   "outputs": [],
   "source": [
    "import csv\n",
    "import random\n",
    "\n",
    "def clip(n, lower, upper):\n",
    "    return max(min(n, upper), lower)\n",
    "\n",
    "csv_path = '/tmp/demo.csv'\n",
    "\n",
    "with open(csv_path, 'w', newline='') as demo_handle:\n",
    "    fields = ['student_id', 'class_year', 'hw_number', 'grade']\n",
    "    writer = csv.DictWriter(demo_handle, fieldnames=fields)\n",
    "    writer.writeheader()\n",
    "    for student_id in range(1, 50):\n",
    "        class_year = int(clip(random.gauss(2, 1), 1, 4))\n",
    "        mean_grade = random.gauss(80, 5) + class_year * 2\n",
    "        for hw_number in range(1, 10):\n",
    "            grade = int(clip(random.gauss(mean_grade, 5), 0, 100))\n",
    "            writer.writerow({\n",
    "                'student_id': student_id,\n",
    "                'class_year': class_year,\n",
    "                'hw_number': hw_number,\n",
    "                'grade': grade,\n",
    "            })"
   ]
  },
  {
   "cell_type": "markdown",
   "metadata": {},
   "source": [
    "Sanity check:"
   ]
  },
  {
   "cell_type": "code",
   "execution_count": 195,
   "metadata": {},
   "outputs": [
    {
     "data": {
      "text/html": [
       "<div><style>\n",
       ".dataframe > thead > tr,\n",
       ".dataframe > tbody > tr {\n",
       "  text-align: right;\n",
       "  white-space: pre-wrap;\n",
       "}\n",
       "</style>\n",
       "<small>shape: (441, 4)</small><table border=\"1\" class=\"dataframe\"><thead><tr><th>student_id</th><th>class_year</th><th>hw_number</th><th>grade</th></tr><tr><td>i64</td><td>i64</td><td>i64</td><td>i64</td></tr></thead><tbody><tr><td>1</td><td>1</td><td>1</td><td>77</td></tr><tr><td>1</td><td>1</td><td>2</td><td>89</td></tr><tr><td>1</td><td>1</td><td>3</td><td>83</td></tr><tr><td>1</td><td>1</td><td>4</td><td>85</td></tr><tr><td>1</td><td>1</td><td>5</td><td>72</td></tr><tr><td>&hellip;</td><td>&hellip;</td><td>&hellip;</td><td>&hellip;</td></tr><tr><td>49</td><td>1</td><td>5</td><td>88</td></tr><tr><td>49</td><td>1</td><td>6</td><td>96</td></tr><tr><td>49</td><td>1</td><td>7</td><td>83</td></tr><tr><td>49</td><td>1</td><td>8</td><td>82</td></tr><tr><td>49</td><td>1</td><td>9</td><td>87</td></tr></tbody></table></div>"
      ],
      "text/plain": [
       "shape: (441, 4)\n",
       "┌────────────┬────────────┬───────────┬───────┐\n",
       "│ student_id ┆ class_year ┆ hw_number ┆ grade │\n",
       "│ ---        ┆ ---        ┆ ---       ┆ ---   │\n",
       "│ i64        ┆ i64        ┆ i64       ┆ i64   │\n",
       "╞════════════╪════════════╪═══════════╪═══════╡\n",
       "│ 1          ┆ 1          ┆ 1         ┆ 77    │\n",
       "│ 1          ┆ 1          ┆ 2         ┆ 89    │\n",
       "│ 1          ┆ 1          ┆ 3         ┆ 83    │\n",
       "│ 1          ┆ 1          ┆ 4         ┆ 85    │\n",
       "│ 1          ┆ 1          ┆ 5         ┆ 72    │\n",
       "│ …          ┆ …          ┆ …         ┆ …     │\n",
       "│ 49         ┆ 1          ┆ 5         ┆ 88    │\n",
       "│ 49         ┆ 1          ┆ 6         ┆ 96    │\n",
       "│ 49         ┆ 1          ┆ 7         ┆ 83    │\n",
       "│ 49         ┆ 1          ┆ 8         ┆ 82    │\n",
       "│ 49         ┆ 1          ┆ 9         ┆ 87    │\n",
       "└────────────┴────────────┴───────────┴───────┘"
      ]
     },
     "execution_count": 195,
     "metadata": {},
     "output_type": "execute_result"
    }
   ],
   "source": [
    "import polars\n",
    "\n",
    "lf = polars.scan_csv(csv_path)\n",
    "lf.collect()"
   ]
  },
  {
   "cell_type": "markdown",
   "metadata": {},
   "source": [
    "Plot function from in https://github.com/opendp/dp-creator-ii/pull/35: remove redundant def here when that is merged."
   ]
  },
  {
   "cell_type": "code",
   "execution_count": 196,
   "metadata": {},
   "outputs": [],
   "source": [
    "import matplotlib.pyplot as plt\n",
    "import numpy as np\n",
    "\n",
    "\n",
    "def plot_error_bars_with_cutoff(\n",
    "    y_values, x_min_label=\"min\", x_max_label=\"max\", y_cutoff=0, y_error=0\n",
    "):\n",
    "    x_values = 0.5 + np.arange(len(y_values))\n",
    "    x_values_above = []\n",
    "    x_values_below = []\n",
    "    y_values_above = []\n",
    "    y_values_below = []\n",
    "    for x, y in zip(x_values, y_values):\n",
    "        if y < y_cutoff:\n",
    "            x_values_below.append(x)\n",
    "            y_values_below.append(y)\n",
    "        else:\n",
    "            x_values_above.append(x)\n",
    "            y_values_above.append(y)\n",
    "\n",
    "    figure, axes = plt.subplots()\n",
    "    color = \"skyblue\"\n",
    "    shared = {\n",
    "        \"width\": 0.8,\n",
    "        \"edgecolor\": color,\n",
    "        \"linewidth\": 1,\n",
    "        \"yerr\": y_error,\n",
    "    }\n",
    "    axes.bar(x_values_above, y_values_above, color=color, **shared)\n",
    "    axes.bar(x_values_below, y_values_below, color=\"white\", **shared)\n",
    "    axes.hlines([y_cutoff], 0, len(y_values), colors=[\"black\"], linestyles=[\"dotted\"])\n",
    "\n",
    "    axes.set(xlim=(0, len(y_values)), ylim=(0, max(y_values)))\n",
    "    axes.get_xaxis().set_ticks(\n",
    "        ticks=[x_values[0], x_values[-1]],\n",
    "        labels=[x_min_label, x_max_label],\n",
    "    )\n",
    "    axes.get_yaxis().set_ticks([])"
   ]
  },
  {
   "cell_type": "code",
   "execution_count": 197,
   "metadata": {},
   "outputs": [
    {
     "data": {
      "text/html": [
       "<div><style>\n",
       ".dataframe > thead > tr,\n",
       ".dataframe > tbody > tr {\n",
       "  text-align: right;\n",
       "  white-space: pre-wrap;\n",
       "}\n",
       "</style>\n",
       "<small>shape: (4, 2)</small><table border=\"1\" class=\"dataframe\"><thead><tr><th>class_year</th><th>len</th></tr><tr><td>i64</td><td>u32</td></tr></thead><tbody><tr><td>1</td><td>162</td></tr><tr><td>2</td><td>198</td></tr><tr><td>3</td><td>72</td></tr><tr><td>4</td><td>9</td></tr></tbody></table></div>"
      ],
      "text/plain": [
       "shape: (4, 2)\n",
       "┌────────────┬─────┐\n",
       "│ class_year ┆ len │\n",
       "│ ---        ┆ --- │\n",
       "│ i64        ┆ u32 │\n",
       "╞════════════╪═════╡\n",
       "│ 1          ┆ 162 │\n",
       "│ 2          ┆ 198 │\n",
       "│ 3          ┆ 72  │\n",
       "│ 4          ┆ 9   │\n",
       "└────────────┴─────┘"
      ]
     },
     "execution_count": 197,
     "metadata": {},
     "output_type": "execute_result"
    }
   ],
   "source": [
    "class_years = lf.group_by('class_year').len().collect().sort('class_year')\n",
    "class_years"
   ]
  },
  {
   "cell_type": "code",
   "execution_count": 198,
   "metadata": {},
   "outputs": [
    {
     "data": {
      "image/png": "[encoded data removed]",
      "text/plain": [
       "<Figure size 640x480 with 1 Axes>"
      ]
     },
     "metadata": {},
     "output_type": "display_data"
    }
   ],
   "source": [
    "grades = lf.group_by('grade').len().collect().sort('grade')\n",
    "min_grade = 0\n",
    "max_grade = 100\n",
    "df_0_100 = polars.from_dict({'grade': range(min_grade, max_grade+1)})\n",
    "grades_0_100 = df_0_100.join(grades, on='grade', how='left').select(['len']).fill_null(0)\n",
    "plot_error_bars_with_cutoff(grades_0_100.to_series().to_list(), min_grade, max_grade)"
   ]
  },
  {
   "cell_type": "markdown",
   "metadata": {},
   "source": [
    "## _Proposed generated notebook starts below!_\n",
    "\n",
    "---"
   ]
  },
  {
   "cell_type": "markdown",
   "metadata": {},
   "source": [
    "# Introduction to Differential Privacy with OpenDP\n",
    "\n",
    "This notebook will demonstrate how to make a differentially private release with [OpenDP](https://docs.opendp.org) using the data you've provided. The OpenDP API has many more options than we can expose in a UI, and this notebook will suggest some options to explore.\n",
    "\n",
    "The concept of a privacy budget is important in DP. Interactively developing DP analyses is a good practice, for example, to identify variables of interest before choosing where to spend the rest of a finite privacy budget. That said, it is important to track the total budget consumed: It would not be good to run a cell in this notebook, look at output, and then run it again, without tracking the privacy consumed by each operaion.\n",
    "\n",
    "We begin with a conventional set of imports and then define a [`Context`](https://docs.opendp.org/en/stable/api/user-guide/context/index.html), based on the information you provided:"
   ]
  },
  {
   "cell_type": "code",
   "execution_count": 199,
   "metadata": {},
   "outputs": [],
   "source": [
    "# Uncomment if you have not already installed OpenDP:\n",
    "# %pip install opendp==0.11.1\n",
    "\n",
    "# OpenDP extends the Polars dataframe library:\n",
    "import polars as pl\n",
    "# Conventional import for OpenDP:\n",
    "import opendp.prelude as dp\n",
    "\n",
    "# OpenDP plans to offer a set algorithms that have been formally reviewed for correctness.\n",
    "# Until that is complete, we need to opt-in to \"contributed\" features:\n",
    "dp.enable_features(\"contrib\")"
   ]
  },
  {
   "cell_type": "code",
   "execution_count": 200,
   "metadata": {},
   "outputs": [],
   "source": [
    "# Information you've provided that applies to the whole calculation:\n",
    "csv_path = '/tmp/demo.csv'\n",
    "contributions = 10\n",
    "epsilon = 2\n",
    "weights = [1, 2]\n",
    "max_possible_rows = 1000000 \n",
    "\n",
    "# Information you've provided for the \"grade\" column:\n",
    "grade_min = 50\n",
    "grade_max = 100\n",
    "grade_bins_count = 10\n",
    "\n",
    "grade_bins_list = list(range(\n",
    "    grade_min,\n",
    "    grade_max,\n",
    "    int((grade_max - grade_min) / grade_bins_count)\n",
    "))\n",
    "\n",
    "context = dp.Context.compositor(\n",
    "    data=pl.scan_csv(csv_path, encoding=\"utf8-lossy\").with_columns(\n",
    "        pl.col(\"grade\").cut(grade_bins_list).alias(\"grade_bin\").cast(pl.String)\n",
    "    ),\n",
    "    privacy_unit=dp.unit_of(contributions=contributions),\n",
    "    privacy_loss=dp.loss_of(epsilon=epsilon, delta=1e-7),\n",
    "    split_by_weights=weights,\n",
    "    margins={\n",
    "        (): dp.polars.Margin(\n",
    "            max_partition_length=max_possible_rows,\n",
    "            # To calculate the mean, we need to know the total number of entries,\n",
    "            # but this is not by default public information. We must opt-in:\n",
    "            public_info=\"lengths\",\n",
    "        ),\n",
    "        (\"grade_bin\",): dp.polars.Margin(\n",
    "            max_partition_length=max_possible_rows,\n",
    "            # To calculate the mean, we need to know the total number of entries,\n",
    "            # but this is not by default public information. We must opt-in:\n",
    "            public_info=\"keys\",\n",
    "        ),\n",
    "\n",
    "    },\n",
    ")"
   ]
  },
  {
   "cell_type": "markdown",
   "metadata": {},
   "source": [
    "(A note on `utf8-lossy`: CSVs can use different \"character encodings\" to represent characters outside the plain ASCII character set, but out of the box the Polars library only supports UTF8. Specifying `utf8-lossy` preserves as much information as possible, and any unrecognized characters will be replaced by \"�\". If this is not sufficient, you will need to preprocess your data to reencode it as UTF8.)"
   ]
  },
  {
   "cell_type": "code",
   "execution_count": 201,
   "metadata": {},
   "outputs": [
    {
     "data": {
      "text/html": [
       "<div><style>\n",
       ".dataframe > thead > tr,\n",
       ".dataframe > tbody > tr {\n",
       "  text-align: right;\n",
       "  white-space: pre-wrap;\n",
       "}\n",
       "</style>\n",
       "<small>shape: (1, 1)</small><table border=\"1\" class=\"dataframe\"><thead><tr><th>grade</th></tr><tr><td>f64</td></tr></thead><tbody><tr><td>84.011338</td></tr></tbody></table></div>"
      ],
      "text/plain": [
       "shape: (1, 1)\n",
       "┌───────────┐\n",
       "│ grade     │\n",
       "│ ---       │\n",
       "│ f64       │\n",
       "╞═══════════╡\n",
       "│ 84.011338 │\n",
       "└───────────┘"
      ]
     },
     "execution_count": 201,
     "metadata": {},
     "output_type": "execute_result"
    }
   ],
   "source": [
    "grade_mean = context.query().select(\n",
    "    pl.col(\"grade\").fill_null(0).dp.mean(bounds=(grade_min, grade_max))\n",
    ").release().collect()\n",
    "grade_mean"
   ]
  },
  {
   "cell_type": "code",
   "execution_count": 202,
   "metadata": {},
   "outputs": [
    {
     "data": {
      "text/html": [
       "<div><style>\n",
       ".dataframe > thead > tr,\n",
       ".dataframe > tbody > tr {\n",
       "  text-align: right;\n",
       "  white-space: pre-wrap;\n",
       "}\n",
       "</style>\n",
       "<small>shape: (8, 2)</small><table border=\"1\" class=\"dataframe\"><thead><tr><th>grade_bin</th><th>len</th></tr><tr><td>str</td><td>u32</td></tr></thead><tbody><tr><td>&quot;(60, 65]&quot;</td><td>11</td></tr><tr><td>&quot;(65, 70]&quot;</td><td>40</td></tr><tr><td>&quot;(70, 75]&quot;</td><td>55</td></tr><tr><td>&quot;(75, 80]&quot;</td><td>87</td></tr><tr><td>&quot;(80, 85]&quot;</td><td>95</td></tr><tr><td>&quot;(85, 90]&quot;</td><td>95</td></tr><tr><td>&quot;(90, 95]&quot;</td><td>55</td></tr><tr><td>&quot;(95, inf]&quot;</td><td>22</td></tr></tbody></table></div>"
      ],
      "text/plain": [
       "shape: (8, 2)\n",
       "┌───────────┬─────┐\n",
       "│ grade_bin ┆ len │\n",
       "│ ---       ┆ --- │\n",
       "│ str       ┆ u32 │\n",
       "╞═══════════╪═════╡\n",
       "│ (60, 65]  ┆ 11  │\n",
       "│ (65, 70]  ┆ 40  │\n",
       "│ (70, 75]  ┆ 55  │\n",
       "│ (75, 80]  ┆ 87  │\n",
       "│ (80, 85]  ┆ 95  │\n",
       "│ (85, 90]  ┆ 95  │\n",
       "│ (90, 95]  ┆ 55  │\n",
       "│ (95, inf] ┆ 22  │\n",
       "└───────────┴─────┘"
      ]
     },
     "execution_count": 202,
     "metadata": {},
     "output_type": "execute_result"
    }
   ],
   "source": [
    "grade_histogram = (context.query()\n",
    "        .group_by(\"grade_bin\")\n",
    "        .agg(pl.len().dp.noise())\n",
    "        .release()\n",
    "        .collect()\n",
    "        .sort(\"grade_bin\")\n",
    ")\n",
    "grade_histogram"
   ]
  },
  {
   "cell_type": "markdown",
   "metadata": {},
   "source": []
  }
 ],
 "metadata": {
  "kernelspec": {
   "display_name": ".venv",
   "language": "python",
   "name": "python3"
  },
  "language_info": {
   "codemirror_mode": {
    "name": "ipython",
    "version": 3
   },
   "file_extension": ".py",
   "mimetype": "text/x-python",
   "name": "python",
   "nbconvert_exporter": "python",
   "pygments_lexer": "ipython3",
   "version": "3.12.3"
  }
 },
 "nbformat": 4,
 "nbformat_minor": 2
}
