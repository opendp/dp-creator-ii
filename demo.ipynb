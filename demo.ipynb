{
 "cells": [
  {
   "cell_type": "markdown",
   "metadata": {},
   "source": [
    "This is just to demonstrate how the analysis will work for the POC, and also to show what the final exported notebook will look like. When that is implemented, get rid of this!\n",
    "\n",
    "First, generate a fake dataset. In the future, let's check it in and use it if the [`--demo` flag](https://github.com/opendp/dp-creator-ii/issues/7) is given."
   ]
  },
  {
   "cell_type": "code",
   "execution_count": 135,
   "metadata": {},
   "outputs": [],
   "source": [
    "import csv\n",
    "import random\n",
    "\n",
    "def clip(n, lower, upper):\n",
    "    return max(min(n, upper), lower)\n",
    "\n",
    "csv_path = '/tmp/demo.csv'\n",
    "\n",
    "with open(csv_path, 'w', newline='') as demo_handle:\n",
    "    fields = ['student_id', 'class_year', 'hw_number', 'grade']\n",
    "    writer = csv.DictWriter(demo_handle, fieldnames=fields)\n",
    "    writer.writeheader()\n",
    "    for student_id in range(1, 50):\n",
    "        class_year = int(clip(random.gauss(2, 1), 1, 4))\n",
    "        mean_grade = random.gauss(80, 5) + class_year * 2\n",
    "        for hw_number in range(1, 10):\n",
    "            grade = int(clip(random.gauss(mean_grade, 5), 0, 100))\n",
    "            writer.writerow({\n",
    "                'student_id': student_id,\n",
    "                'class_year': class_year,\n",
    "                'hw_number': hw_number,\n",
    "                'grade': grade,\n",
    "            })"
   ]
  },
  {
   "cell_type": "markdown",
   "metadata": {},
   "source": [
    "Sanity check:"
   ]
  },
  {
   "cell_type": "code",
   "execution_count": 136,
   "metadata": {},
   "outputs": [
    {
     "data": {
      "text/html": [
       "<div><style>\n",
       ".dataframe > thead > tr,\n",
       ".dataframe > tbody > tr {\n",
       "  text-align: right;\n",
       "  white-space: pre-wrap;\n",
       "}\n",
       "</style>\n",
       "<small>shape: (441, 4)</small><table border=\"1\" class=\"dataframe\"><thead><tr><th>student_id</th><th>class_year</th><th>hw_number</th><th>grade</th></tr><tr><td>i64</td><td>i64</td><td>i64</td><td>i64</td></tr></thead><tbody><tr><td>1</td><td>2</td><td>1</td><td>93</td></tr><tr><td>1</td><td>2</td><td>2</td><td>87</td></tr><tr><td>1</td><td>2</td><td>3</td><td>82</td></tr><tr><td>1</td><td>2</td><td>4</td><td>92</td></tr><tr><td>1</td><td>2</td><td>5</td><td>93</td></tr><tr><td>&hellip;</td><td>&hellip;</td><td>&hellip;</td><td>&hellip;</td></tr><tr><td>49</td><td>3</td><td>5</td><td>94</td></tr><tr><td>49</td><td>3</td><td>6</td><td>81</td></tr><tr><td>49</td><td>3</td><td>7</td><td>89</td></tr><tr><td>49</td><td>3</td><td>8</td><td>90</td></tr><tr><td>49</td><td>3</td><td>9</td><td>89</td></tr></tbody></table></div>"
      ],
      "text/plain": [
       "shape: (441, 4)\n",
       "┌────────────┬────────────┬───────────┬───────┐\n",
       "│ student_id ┆ class_year ┆ hw_number ┆ grade │\n",
       "│ ---        ┆ ---        ┆ ---       ┆ ---   │\n",
       "│ i64        ┆ i64        ┆ i64       ┆ i64   │\n",
       "╞════════════╪════════════╪═══════════╪═══════╡\n",
       "│ 1          ┆ 2          ┆ 1         ┆ 93    │\n",
       "│ 1          ┆ 2          ┆ 2         ┆ 87    │\n",
       "│ 1          ┆ 2          ┆ 3         ┆ 82    │\n",
       "│ 1          ┆ 2          ┆ 4         ┆ 92    │\n",
       "│ 1          ┆ 2          ┆ 5         ┆ 93    │\n",
       "│ …          ┆ …          ┆ …         ┆ …     │\n",
       "│ 49         ┆ 3          ┆ 5         ┆ 94    │\n",
       "│ 49         ┆ 3          ┆ 6         ┆ 81    │\n",
       "│ 49         ┆ 3          ┆ 7         ┆ 89    │\n",
       "│ 49         ┆ 3          ┆ 8         ┆ 90    │\n",
       "│ 49         ┆ 3          ┆ 9         ┆ 89    │\n",
       "└────────────┴────────────┴───────────┴───────┘"
      ]
     },
     "execution_count": 136,
     "metadata": {},
     "output_type": "execute_result"
    }
   ],
   "source": [
    "import polars\n",
    "\n",
    "lf = polars.scan_csv(csv_path)\n",
    "lf.collect()"
   ]
  },
  {
   "cell_type": "markdown",
   "metadata": {},
   "source": [
    "Plot function from in https://github.com/opendp/dp-creator-ii/pull/35: remove redundant def here when that is merged."
   ]
  },
  {
   "cell_type": "code",
   "execution_count": 137,
   "metadata": {},
   "outputs": [],
   "source": [
    "import matplotlib.pyplot as plt\n",
    "import numpy as np\n",
    "\n",
    "\n",
    "def plot_error_bars_with_cutoff(\n",
    "    y_values, x_min_label=\"min\", x_max_label=\"max\", y_cutoff=0, y_error=0\n",
    "):\n",
    "    x_values = 0.5 + np.arange(len(y_values))\n",
    "    x_values_above = []\n",
    "    x_values_below = []\n",
    "    y_values_above = []\n",
    "    y_values_below = []\n",
    "    for x, y in zip(x_values, y_values):\n",
    "        if y < y_cutoff:\n",
    "            x_values_below.append(x)\n",
    "            y_values_below.append(y)\n",
    "        else:\n",
    "            x_values_above.append(x)\n",
    "            y_values_above.append(y)\n",
    "\n",
    "    figure, axes = plt.subplots()\n",
    "    color = \"skyblue\"\n",
    "    shared = {\n",
    "        \"width\": 0.8,\n",
    "        \"edgecolor\": color,\n",
    "        \"linewidth\": 1,\n",
    "        \"yerr\": y_error,\n",
    "    }\n",
    "    axes.bar(x_values_above, y_values_above, color=color, **shared)\n",
    "    axes.bar(x_values_below, y_values_below, color=\"white\", **shared)\n",
    "    axes.hlines([y_cutoff], 0, len(y_values), colors=[\"black\"], linestyles=[\"dotted\"])\n",
    "\n",
    "    axes.set(xlim=(0, len(y_values)), ylim=(0, max(y_values)))\n",
    "    axes.get_xaxis().set_ticks(\n",
    "        ticks=[x_values[0], x_values[-1]],\n",
    "        labels=[x_min_label, x_max_label],\n",
    "    )\n",
    "    axes.get_yaxis().set_ticks([])"
   ]
  },
  {
   "cell_type": "code",
   "execution_count": 138,
   "metadata": {},
   "outputs": [
    {
     "data": {
      "text/html": [
       "<div><style>\n",
       ".dataframe > thead > tr,\n",
       ".dataframe > tbody > tr {\n",
       "  text-align: right;\n",
       "  white-space: pre-wrap;\n",
       "}\n",
       "</style>\n",
       "<small>shape: (4, 2)</small><table border=\"1\" class=\"dataframe\"><thead><tr><th>class_year</th><th>len</th></tr><tr><td>i64</td><td>u32</td></tr></thead><tbody><tr><td>1</td><td>180</td></tr><tr><td>2</td><td>144</td></tr><tr><td>3</td><td>99</td></tr><tr><td>4</td><td>18</td></tr></tbody></table></div>"
      ],
      "text/plain": [
       "shape: (4, 2)\n",
       "┌────────────┬─────┐\n",
       "│ class_year ┆ len │\n",
       "│ ---        ┆ --- │\n",
       "│ i64        ┆ u32 │\n",
       "╞════════════╪═════╡\n",
       "│ 1          ┆ 180 │\n",
       "│ 2          ┆ 144 │\n",
       "│ 3          ┆ 99  │\n",
       "│ 4          ┆ 18  │\n",
       "└────────────┴─────┘"
      ]
     },
     "execution_count": 138,
     "metadata": {},
     "output_type": "execute_result"
    }
   ],
   "source": [
    "class_years = lf.group_by('class_year').len().collect().sort('class_year')\n",
    "class_years"
   ]
  },
  {
   "cell_type": "code",
   "execution_count": 139,
   "metadata": {},
   "outputs": [
    {
     "data": {
      "image/png": "[encoded data removed]",
      "text/plain": [
       "<Figure size 640x480 with 1 Axes>"
      ]
     },
     "metadata": {},
     "output_type": "display_data"
    }
   ],
   "source": [
    "grades = lf.group_by('grade').len().collect().sort('grade')\n",
    "min_grade = 0\n",
    "max_grade = 100\n",
    "df_0_100 = polars.from_dict({'grade': range(min_grade, max_grade+1)})\n",
    "grades_0_100 = df_0_100.join(grades, on='grade', how='left').select(['len']).fill_null(0)\n",
    "plot_error_bars_with_cutoff(grades_0_100.to_series().to_list(), min_grade, max_grade)"
   ]
  },
  {
   "cell_type": "markdown",
   "metadata": {},
   "source": [
    "## _Proposed generated notebook starts below!_\n",
    "\n",
    "---"
   ]
  },
  {
   "cell_type": "markdown",
   "metadata": {},
   "source": [
    "# Introduction to Differential Privacy with OpenDP\n",
    "\n",
    "This notebook will demonstrate how to make a differentially private release with [OpenDP](https://docs.opendp.org) using the data you've provided. The OpenDP API has many more options than we can expose in a UI, and this notebook will suggest some options to explore.\n",
    "\n",
    "The concept of a privacy budget is important in DP. Interactively developing DP analyses is a good practice, for example, to identify variables of interest before choosing where to spend the rest of a finite privacy budget. That said, it is important to track the total budget consumed: It would not be good to run a cell in this notebook, look at output, and then run it again, without tracking the privacy consumed by each operaion.\n",
    "\n",
    "We begin with a conventional set of imports and then define a [`Context`](https://docs.opendp.org/en/stable/api/user-guide/context/index.html), based on the information you provided:"
   ]
  },
  {
   "cell_type": "code",
   "execution_count": 140,
   "metadata": {},
   "outputs": [],
   "source": [
    "# Uncomment if you have not already installed OpenDP:\n",
    "# %pip install opendp==0.11.1\n",
    "\n",
    "# OpenDP extends the Polars dataframe library:\n",
    "import polars as pl\n",
    "# Conventional import for OpenDP:\n",
    "import opendp.prelude as dp\n",
    "\n",
    "# OpenDP plans to offer a set algorithms that have been formally reviewed for correctness.\n",
    "# Until that is complete, we need to opt-in to \"contributed\" features:\n",
    "dp.enable_features(\"contrib\")"
   ]
  },
  {
   "cell_type": "code",
   "execution_count": 141,
   "metadata": {},
   "outputs": [],
   "source": [
    "# Information you've provided that applies to the whole calculation:\n",
    "csv_path = '/tmp/demo.csv'\n",
    "contributions = 10\n",
    "epsilon = 2\n",
    "weights = [1, 2]\n",
    "max_possible_rows = 1000000 \n",
    "\n",
    "# Information you've provided for the \"grade\" column:\n",
    "grade_min = 50\n",
    "grade_max = 100\n",
    "grade_bins_count = 10\n",
    "\n",
    "grade_bins_list = list(range(\n",
    "    grade_min,\n",
    "    grade_max,\n",
    "    int((grade_max - grade_min) / grade_bins_count)\n",
    "))\n",
    "\n",
    "context = dp.Context.compositor(\n",
    "    data=pl.scan_csv(csv_path, encoding=\"utf8-lossy\").with_columns(\n",
    "        pl.col(\"grade\").cut(grade_bins_list).alias(\"grade_bin\").to_physical()\n",
    "    ),\n",
    "    privacy_unit=dp.unit_of(contributions=contributions),\n",
    "    privacy_loss=dp.loss_of(epsilon=epsilon),\n",
    "    split_by_weights=weights,\n",
    "    margins={\n",
    "        (): dp.polars.Margin(\n",
    "            max_partition_length=max_possible_rows,\n",
    "            # To calculate the mean, we need to know the total number of entries,\n",
    "            # but this is not by default public information. We must opt-in:\n",
    "            public_info=\"lengths\",\n",
    "        ),\n",
    "        (\"grade_bin\",): dp.polars.Margin(\n",
    "            max_partition_length=max_possible_rows,\n",
    "            # To calculate the mean, we need to know the total number of entries,\n",
    "            # but this is not by default public information. We must opt-in:\n",
    "            public_info=\"lengths\",\n",
    "        ),\n",
    "\n",
    "    },\n",
    ")"
   ]
  },
  {
   "cell_type": "markdown",
   "metadata": {},
   "source": [
    "(A note on `utf8-lossy`: CSVs can use different \"character encodings\" to represent characters outside the plain ASCII character set, but out of the box the Polars library only supports UTF8. Specifying `utf8-lossy` preserves as much information as possible, and any unrecognized characters will be replaced by \"�\". If this is not sufficient, you will need to preprocess your data to reencode it as UTF8.)"
   ]
  },
  {
   "cell_type": "code",
   "execution_count": 142,
   "metadata": {},
   "outputs": [
    {
     "data": {
      "text/html": [
       "<div><style>\n",
       ".dataframe > thead > tr,\n",
       ".dataframe > tbody > tr {\n",
       "  text-align: right;\n",
       "  white-space: pre-wrap;\n",
       "}\n",
       "</style>\n",
       "<small>shape: (1, 1)</small><table border=\"1\" class=\"dataframe\"><thead><tr><th>grade</th></tr><tr><td>f64</td></tr></thead><tbody><tr><td>83.666667</td></tr></tbody></table></div>"
      ],
      "text/plain": [
       "shape: (1, 1)\n",
       "┌───────────┐\n",
       "│ grade     │\n",
       "│ ---       │\n",
       "│ f64       │\n",
       "╞═══════════╡\n",
       "│ 83.666667 │\n",
       "└───────────┘"
      ]
     },
     "execution_count": 142,
     "metadata": {},
     "output_type": "execute_result"
    }
   ],
   "source": [
    "grade_mean = context.query().select(\n",
    "    pl.col(\"grade\").fill_null(0).dp.mean(bounds=(grade_min, grade_max))\n",
    ").release().collect()\n",
    "grade_mean"
   ]
  },
  {
   "cell_type": "code",
   "execution_count": 143,
   "metadata": {},
   "outputs": [
    {
     "ename": "OpenDPException",
     "evalue": "\n  MakeMeasurement(\"The key-set of {\"grade_bin\"} is private and cannot be released without filtering. Please pass a filtering threshold into make_private_lazyframe.\")",
     "output_type": "error",
     "traceback": [
      "\u001b[0;31m---------------------------------------------------------------------------\u001b[0m",
      "\u001b[0;31mOpenDPException\u001b[0m                           Traceback (most recent call last)",
      "Cell \u001b[0;32mIn[143], line 4\u001b[0m\n\u001b[1;32m      1\u001b[0m grade_histogram \u001b[38;5;241m=\u001b[39m (\u001b[43mcontext\u001b[49m\u001b[38;5;241;43m.\u001b[39;49m\u001b[43mquery\u001b[49m\u001b[43m(\u001b[49m\u001b[43m)\u001b[49m\n\u001b[1;32m      2\u001b[0m \u001b[43m        \u001b[49m\u001b[38;5;241;43m.\u001b[39;49m\u001b[43mgroup_by\u001b[49m\u001b[43m(\u001b[49m\u001b[38;5;124;43m\"\u001b[39;49m\u001b[38;5;124;43mgrade_bin\u001b[39;49m\u001b[38;5;124;43m\"\u001b[39;49m\u001b[43m)\u001b[49m\n\u001b[1;32m      3\u001b[0m \u001b[43m        \u001b[49m\u001b[38;5;241;43m.\u001b[39;49m\u001b[43magg\u001b[49m\u001b[43m(\u001b[49m\u001b[43mpl\u001b[49m\u001b[38;5;241;43m.\u001b[39;49m\u001b[43mlen\u001b[49m\u001b[43m(\u001b[49m\u001b[43m)\u001b[49m\u001b[38;5;241;43m.\u001b[39;49m\u001b[43mdp\u001b[49m\u001b[38;5;241;43m.\u001b[39;49m\u001b[43mnoise\u001b[49m\u001b[43m(\u001b[49m\u001b[43m)\u001b[49m\u001b[43m)\u001b[49m\n\u001b[0;32m----> 4\u001b[0m \u001b[43m        \u001b[49m\u001b[38;5;241;43m.\u001b[39;49m\u001b[43mrelease\u001b[49m\u001b[43m(\u001b[49m\u001b[43m)\u001b[49m\n\u001b[1;32m      5\u001b[0m         \u001b[38;5;241m.\u001b[39mcollect()\n\u001b[1;32m      6\u001b[0m         \u001b[38;5;241m.\u001b[39msort(\u001b[38;5;124m\"\u001b[39m\u001b[38;5;124mgrade_bin\u001b[39m\u001b[38;5;124m\"\u001b[39m)\n\u001b[1;32m      7\u001b[0m )\n",
      "File \u001b[0;32m~/github/opendp/dp-creator-ii/.venv/lib/python3.12/site-packages/opendp/extras/polars/__init__.py:570\u001b[0m, in \u001b[0;36mLazyFrameQuery.release\u001b[0;34m(self)\u001b[0m\n\u001b[1;32m    568\u001b[0m query \u001b[38;5;241m=\u001b[39m \u001b[38;5;28mobject\u001b[39m\u001b[38;5;241m.\u001b[39m\u001b[38;5;21m__getattribute__\u001b[39m(\u001b[38;5;28mself\u001b[39m, \u001b[38;5;124m\"\u001b[39m\u001b[38;5;124m_query\u001b[39m\u001b[38;5;124m\"\u001b[39m)\n\u001b[1;32m    569\u001b[0m resolve \u001b[38;5;241m=\u001b[39m \u001b[38;5;28mobject\u001b[39m\u001b[38;5;241m.\u001b[39m\u001b[38;5;21m__getattribute__\u001b[39m(\u001b[38;5;28mself\u001b[39m, \u001b[38;5;124m\"\u001b[39m\u001b[38;5;124mresolve\u001b[39m\u001b[38;5;124m\"\u001b[39m)\n\u001b[0;32m--> 570\u001b[0m \u001b[38;5;28;01mreturn\u001b[39;00m query\u001b[38;5;241m.\u001b[39m_context(\u001b[43mresolve\u001b[49m\u001b[43m(\u001b[49m\u001b[43m)\u001b[49m)\n",
      "File \u001b[0;32m~/github/opendp/dp-creator-ii/.venv/lib/python3.12/site-packages/opendp/extras/polars/__init__.py:564\u001b[0m, in \u001b[0;36mLazyFrameQuery.resolve\u001b[0;34m(self)\u001b[0m\n\u001b[1;32m    560\u001b[0m     \u001b[38;5;28;01mreturn\u001b[39;00m make(scale, threshold)\n\u001b[1;32m    562\u001b[0m \u001b[38;5;66;03m# when no delta parameter is involved, \u001b[39;00m\n\u001b[1;32m    563\u001b[0m \u001b[38;5;66;03m# finding a suitable measurement just comes down to finding scale\u001b[39;00m\n\u001b[0;32m--> 564\u001b[0m \u001b[38;5;28;01mreturn\u001b[39;00m \u001b[43mbinary_search_chain\u001b[49m\u001b[43m(\u001b[49m\u001b[43mmake\u001b[49m\u001b[43m,\u001b[49m\u001b[43m \u001b[49m\u001b[43md_in\u001b[49m\u001b[43m,\u001b[49m\u001b[43m \u001b[49m\u001b[43md_out\u001b[49m\u001b[43m,\u001b[49m\u001b[43m \u001b[49m\u001b[43mT\u001b[49m\u001b[38;5;241;43m=\u001b[39;49m\u001b[38;5;28;43mfloat\u001b[39;49m\u001b[43m)\u001b[49m\n",
      "File \u001b[0;32m~/github/opendp/dp-creator-ii/.venv/lib/python3.12/site-packages/opendp/mod.py:816\u001b[0m, in \u001b[0;36mbinary_search_chain\u001b[0;34m(make_chain, d_in, d_out, bounds, T)\u001b[0m\n\u001b[1;32m    755\u001b[0m \u001b[38;5;28;01mdef\u001b[39;00m \u001b[38;5;21mbinary_search_chain\u001b[39m(\n\u001b[1;32m    756\u001b[0m         make_chain: Callable[[\u001b[38;5;28mfloat\u001b[39m], M],\n\u001b[1;32m    757\u001b[0m         d_in: Any, d_out: Any,\n\u001b[1;32m    758\u001b[0m         bounds: \u001b[38;5;28mtuple\u001b[39m[\u001b[38;5;28mfloat\u001b[39m, \u001b[38;5;28mfloat\u001b[39m] \u001b[38;5;241m|\u001b[39m \u001b[38;5;28;01mNone\u001b[39;00m \u001b[38;5;241m=\u001b[39m \u001b[38;5;28;01mNone\u001b[39;00m,\n\u001b[1;32m    759\u001b[0m         T\u001b[38;5;241m=\u001b[39m\u001b[38;5;28;01mNone\u001b[39;00m) \u001b[38;5;241m-\u001b[39m\u001b[38;5;241m>\u001b[39m M:\n\u001b[1;32m    760\u001b[0m \u001b[38;5;250m    \u001b[39m\u001b[38;5;124;03m\"\"\"Find the highest-utility (`d_in`, `d_out`)-close Transformation or Measurement.\u001b[39;00m\n\u001b[1;32m    761\u001b[0m \u001b[38;5;124;03m    \u001b[39;00m\n\u001b[1;32m    762\u001b[0m \u001b[38;5;124;03m    Searches for the numeric parameter to `make_chain` that results in a computation\u001b[39;00m\n\u001b[0;32m   (...)\u001b[0m\n\u001b[1;32m    814\u001b[0m \u001b[38;5;124;03m    >>> # If you want the discovered clamping bound, use `binary_search_param` instead.\u001b[39;00m\n\u001b[1;32m    815\u001b[0m \u001b[38;5;124;03m    \"\"\"\u001b[39;00m\n\u001b[0;32m--> 816\u001b[0m     \u001b[38;5;28;01mreturn\u001b[39;00m make_chain(\u001b[43mbinary_search_param\u001b[49m\u001b[43m(\u001b[49m\u001b[43mmake_chain\u001b[49m\u001b[43m,\u001b[49m\u001b[43m \u001b[49m\u001b[43md_in\u001b[49m\u001b[43m,\u001b[49m\u001b[43m \u001b[49m\u001b[43md_out\u001b[49m\u001b[43m,\u001b[49m\u001b[43m \u001b[49m\u001b[43mbounds\u001b[49m\u001b[43m,\u001b[49m\u001b[43m \u001b[49m\u001b[43mT\u001b[49m\u001b[43m)\u001b[49m)\n",
      "File \u001b[0;32m~/github/opendp/dp-creator-ii/.venv/lib/python3.12/site-packages/opendp/mod.py:884\u001b[0m, in \u001b[0;36mbinary_search_param\u001b[0;34m(make_chain, d_in, d_out, bounds, T)\u001b[0m\n\u001b[1;32m    824\u001b[0m \u001b[38;5;250m\u001b[39m\u001b[38;5;124;03m\"\"\"Solve for the ideal constructor argument to `make_chain`.\u001b[39;00m\n\u001b[1;32m    825\u001b[0m \u001b[38;5;124;03m\u001b[39;00m\n\u001b[1;32m    826\u001b[0m \u001b[38;5;124;03mOptimizes a parameterized chain `make_chain` within float or integer `bounds`,\u001b[39;00m\n\u001b[0;32m   (...)\u001b[0m\n\u001b[1;32m    877\u001b[0m \u001b[38;5;124;03m1498\u001b[39;00m\n\u001b[1;32m    878\u001b[0m \u001b[38;5;124;03m\"\"\"\u001b[39;00m\n\u001b[1;32m    880\u001b[0m \u001b[38;5;66;03m# one might think running scipy.optimize.brent* would be better, but \u001b[39;00m\n\u001b[1;32m    881\u001b[0m \u001b[38;5;66;03m# 1. benchmarking showed no difference or minor regressions\u001b[39;00m\n\u001b[1;32m    882\u001b[0m \u001b[38;5;66;03m# 2. brentq is more complicated\u001b[39;00m\n\u001b[0;32m--> 884\u001b[0m \u001b[38;5;28;01mreturn\u001b[39;00m \u001b[43mbinary_search\u001b[49m\u001b[43m(\u001b[49m\u001b[38;5;28;43;01mlambda\u001b[39;49;00m\u001b[43m \u001b[49m\u001b[43mparam\u001b[49m\u001b[43m:\u001b[49m\u001b[43m \u001b[49m\u001b[43mmake_chain\u001b[49m\u001b[43m(\u001b[49m\u001b[43mparam\u001b[49m\u001b[43m)\u001b[49m\u001b[38;5;241;43m.\u001b[39;49m\u001b[43mcheck\u001b[49m\u001b[43m(\u001b[49m\u001b[43md_in\u001b[49m\u001b[43m,\u001b[49m\u001b[43m \u001b[49m\u001b[43md_out\u001b[49m\u001b[43m)\u001b[49m\u001b[43m,\u001b[49m\u001b[43m \u001b[49m\u001b[43mbounds\u001b[49m\u001b[43m,\u001b[49m\u001b[43m \u001b[49m\u001b[43mT\u001b[49m\u001b[43m)\u001b[49m\n",
      "File \u001b[0;32m~/github/opendp/dp-creator-ii/.venv/lib/python3.12/site-packages/opendp/mod.py:973\u001b[0m, in \u001b[0;36mbinary_search\u001b[0;34m(predicate, bounds, T, return_sign)\u001b[0m\n\u001b[1;32m    921\u001b[0m \u001b[38;5;250m\u001b[39m\u001b[38;5;124;03m\"\"\"Find the closest passing value to the decision boundary of `predicate`.\u001b[39;00m\n\u001b[1;32m    922\u001b[0m \n\u001b[1;32m    923\u001b[0m \u001b[38;5;124;03mIf bounds are not passed, conducts an exponential search.\u001b[39;00m\n\u001b[0;32m   (...)\u001b[0m\n\u001b[1;32m    970\u001b[0m \u001b[38;5;124;03m3\u001b[39;00m\n\u001b[1;32m    971\u001b[0m \u001b[38;5;124;03m\"\"\"\u001b[39;00m\n\u001b[1;32m    972\u001b[0m \u001b[38;5;28;01mif\u001b[39;00m bounds \u001b[38;5;129;01mis\u001b[39;00m \u001b[38;5;28;01mNone\u001b[39;00m:\n\u001b[0;32m--> 973\u001b[0m     bounds \u001b[38;5;241m=\u001b[39m \u001b[43mexponential_bounds_search\u001b[49m\u001b[43m(\u001b[49m\u001b[43mpredicate\u001b[49m\u001b[43m,\u001b[49m\u001b[43m \u001b[49m\u001b[43mT\u001b[49m\u001b[43m)\u001b[49m \u001b[38;5;66;03m# type: ignore\u001b[39;00m\n\u001b[1;32m    975\u001b[0m \u001b[38;5;28;01mif\u001b[39;00m bounds \u001b[38;5;129;01mis\u001b[39;00m \u001b[38;5;28;01mNone\u001b[39;00m:\n\u001b[1;32m    976\u001b[0m     \u001b[38;5;28;01mraise\u001b[39;00m \u001b[38;5;167;01mValueError\u001b[39;00m(\u001b[38;5;124m\"\u001b[39m\u001b[38;5;124munable to infer bounds\u001b[39m\u001b[38;5;124m\"\u001b[39m)\n",
      "File \u001b[0;32m~/github/opendp/dp-creator-ii/.venv/lib/python3.12/site-packages/opendp/mod.py:1104\u001b[0m, in \u001b[0;36mexponential_bounds_search\u001b[0;34m(predicate, T)\u001b[0m\n\u001b[1;32m   1102\u001b[0m \u001b[38;5;28;01mif\u001b[39;00m exception_bounds \u001b[38;5;129;01mis\u001b[39;00m \u001b[38;5;28;01mNone\u001b[39;00m:\n\u001b[1;32m   1103\u001b[0m     \u001b[38;5;28;01mtry\u001b[39;00m:\n\u001b[0;32m-> 1104\u001b[0m         \u001b[43mpredicate\u001b[49m\u001b[43m(\u001b[49m\u001b[43mcenter\u001b[49m\u001b[43m)\u001b[49m\n\u001b[1;32m   1105\u001b[0m     \u001b[38;5;28;01mexcept\u001b[39;00m \u001b[38;5;167;01mException\u001b[39;00m \u001b[38;5;28;01mas\u001b[39;00m e:\n\u001b[1;32m   1106\u001b[0m         \u001b[38;5;66;03m# enrich the error message if in Python 3.11+.\u001b[39;00m\n\u001b[1;32m   1107\u001b[0m         \u001b[38;5;28;01mif\u001b[39;00m \u001b[38;5;28mhasattr\u001b[39m(e, \u001b[38;5;124m\"\u001b[39m\u001b[38;5;124madd_note\u001b[39m\u001b[38;5;124m\"\u001b[39m):\n",
      "File \u001b[0;32m~/github/opendp/dp-creator-ii/.venv/lib/python3.12/site-packages/opendp/mod.py:884\u001b[0m, in \u001b[0;36mbinary_search_param.<locals>.<lambda>\u001b[0;34m(param)\u001b[0m\n\u001b[1;32m    824\u001b[0m \u001b[38;5;250m\u001b[39m\u001b[38;5;124;03m\"\"\"Solve for the ideal constructor argument to `make_chain`.\u001b[39;00m\n\u001b[1;32m    825\u001b[0m \u001b[38;5;124;03m\u001b[39;00m\n\u001b[1;32m    826\u001b[0m \u001b[38;5;124;03mOptimizes a parameterized chain `make_chain` within float or integer `bounds`,\u001b[39;00m\n\u001b[0;32m   (...)\u001b[0m\n\u001b[1;32m    877\u001b[0m \u001b[38;5;124;03m1498\u001b[39;00m\n\u001b[1;32m    878\u001b[0m \u001b[38;5;124;03m\"\"\"\u001b[39;00m\n\u001b[1;32m    880\u001b[0m \u001b[38;5;66;03m# one might think running scipy.optimize.brent* would be better, but \u001b[39;00m\n\u001b[1;32m    881\u001b[0m \u001b[38;5;66;03m# 1. benchmarking showed no difference or minor regressions\u001b[39;00m\n\u001b[1;32m    882\u001b[0m \u001b[38;5;66;03m# 2. brentq is more complicated\u001b[39;00m\n\u001b[0;32m--> 884\u001b[0m \u001b[38;5;28;01mreturn\u001b[39;00m binary_search(\u001b[38;5;28;01mlambda\u001b[39;00m param: \u001b[43mmake_chain\u001b[49m\u001b[43m(\u001b[49m\u001b[43mparam\u001b[49m\u001b[43m)\u001b[49m\u001b[38;5;241m.\u001b[39mcheck(d_in, d_out), bounds, T)\n",
      "File \u001b[0;32m~/github/opendp/dp-creator-ii/.venv/lib/python3.12/site-packages/opendp/extras/polars/__init__.py:528\u001b[0m, in \u001b[0;36mLazyFrameQuery.resolve.<locals>.make\u001b[0;34m(scale, threshold)\u001b[0m\n\u001b[1;32m    527\u001b[0m \u001b[38;5;28;01mdef\u001b[39;00m \u001b[38;5;21mmake\u001b[39m(scale, threshold\u001b[38;5;241m=\u001b[39m\u001b[38;5;28;01mNone\u001b[39;00m):\n\u001b[0;32m--> 528\u001b[0m     \u001b[38;5;28;01mreturn\u001b[39;00m \u001b[43mmake_private_lazyframe\u001b[49m\u001b[43m(\u001b[49m\n\u001b[1;32m    529\u001b[0m \u001b[43m        \u001b[49m\u001b[43minput_domain\u001b[49m\u001b[38;5;241;43m=\u001b[39;49m\u001b[43minput_domain\u001b[49m\u001b[43m,\u001b[49m\n\u001b[1;32m    530\u001b[0m \u001b[43m        \u001b[49m\u001b[43minput_metric\u001b[49m\u001b[38;5;241;43m=\u001b[39;49m\u001b[43minput_metric\u001b[49m\u001b[43m,\u001b[49m\n\u001b[1;32m    531\u001b[0m \u001b[43m        \u001b[49m\u001b[43moutput_measure\u001b[49m\u001b[38;5;241;43m=\u001b[39;49m\u001b[43mquery\u001b[49m\u001b[38;5;241;43m.\u001b[39;49m\u001b[43m_output_measure\u001b[49m\u001b[43m,\u001b[49m\n\u001b[1;32m    532\u001b[0m \u001b[43m        \u001b[49m\u001b[43mlazyframe\u001b[49m\u001b[38;5;241;43m=\u001b[39;49m\u001b[43mlf_plan\u001b[49m\u001b[43m,\u001b[49m\n\u001b[1;32m    533\u001b[0m \u001b[43m        \u001b[49m\u001b[43mglobal_scale\u001b[49m\u001b[38;5;241;43m=\u001b[39;49m\u001b[43mscale\u001b[49m\u001b[43m,\u001b[49m\n\u001b[1;32m    534\u001b[0m \u001b[43m        \u001b[49m\u001b[43mthreshold\u001b[49m\u001b[38;5;241;43m=\u001b[39;49m\u001b[43mthreshold\u001b[49m\u001b[43m,\u001b[49m\n\u001b[1;32m    535\u001b[0m \u001b[43m    \u001b[49m\u001b[43m)\u001b[49m\n",
      "File \u001b[0;32m~/github/opendp/dp-creator-ii/.venv/lib/python3.12/site-packages/opendp/measurements.py:820\u001b[0m, in \u001b[0;36mmake_private_lazyframe\u001b[0;34m(input_domain, input_metric, output_measure, lazyframe, global_scale, threshold)\u001b[0m\n\u001b[1;32m    817\u001b[0m lib_function\u001b[38;5;241m.\u001b[39margtypes \u001b[38;5;241m=\u001b[39m [Domain, Metric, Measure, AnyObjectPtr, AnyObjectPtr, AnyObjectPtr]\n\u001b[1;32m    818\u001b[0m lib_function\u001b[38;5;241m.\u001b[39mrestype \u001b[38;5;241m=\u001b[39m FfiResult\n\u001b[0;32m--> 820\u001b[0m output \u001b[38;5;241m=\u001b[39m c_to_py(\u001b[43munwrap\u001b[49m\u001b[43m(\u001b[49m\u001b[43mlib_function\u001b[49m\u001b[43m(\u001b[49m\u001b[43mc_input_domain\u001b[49m\u001b[43m,\u001b[49m\u001b[43m \u001b[49m\u001b[43mc_input_metric\u001b[49m\u001b[43m,\u001b[49m\u001b[43m \u001b[49m\u001b[43mc_output_measure\u001b[49m\u001b[43m,\u001b[49m\u001b[43m \u001b[49m\u001b[43mc_lazyframe\u001b[49m\u001b[43m,\u001b[49m\u001b[43m \u001b[49m\u001b[43mc_global_scale\u001b[49m\u001b[43m,\u001b[49m\u001b[43m \u001b[49m\u001b[43mc_threshold\u001b[49m\u001b[43m)\u001b[49m\u001b[43m,\u001b[49m\u001b[43m \u001b[49m\u001b[43mMeasurement\u001b[49m\u001b[43m)\u001b[49m)\n\u001b[1;32m    822\u001b[0m \u001b[38;5;28;01mreturn\u001b[39;00m output\n",
      "File \u001b[0;32m~/github/opendp/dp-creator-ii/.venv/lib/python3.12/site-packages/opendp/_lib.py:254\u001b[0m, in \u001b[0;36munwrap\u001b[0;34m(result, type_)\u001b[0m\n\u001b[1;32m    252\u001b[0m     \u001b[38;5;28;01mif\u001b[39;00m \u001b[38;5;124m'\u001b[39m\u001b[38;5;124mpolars\u001b[39m\u001b[38;5;124m'\u001b[39m \u001b[38;5;129;01min\u001b[39;00m \u001b[38;5;28mstr\u001b[39m(message)\u001b[38;5;241m.\u001b[39mlower() \u001b[38;5;129;01mand\u001b[39;00m pl\u001b[38;5;241m.\u001b[39m__version__ \u001b[38;5;241m!=\u001b[39m _EXPECTED_POLARS_VERSION:\n\u001b[1;32m    253\u001b[0m         message \u001b[38;5;241m=\u001b[39m \u001b[38;5;124mf\u001b[39m\u001b[38;5;124m'\u001b[39m\u001b[38;5;124mInstalled python polars version (\u001b[39m\u001b[38;5;132;01m{\u001b[39;00mpl\u001b[38;5;241m.\u001b[39m__version__\u001b[38;5;132;01m}\u001b[39;00m\u001b[38;5;124m) != expected version (\u001b[39m\u001b[38;5;132;01m{\u001b[39;00m_EXPECTED_POLARS_VERSION\u001b[38;5;132;01m}\u001b[39;00m\u001b[38;5;124m). \u001b[39m\u001b[38;5;132;01m{\u001b[39;00mmessage\u001b[38;5;132;01m}\u001b[39;00m\u001b[38;5;124m'\u001b[39m \u001b[38;5;66;03m# pragma: no cover\u001b[39;00m\n\u001b[0;32m--> 254\u001b[0m \u001b[38;5;28;01mraise\u001b[39;00m OpenDPException(variant, message, backtrace)\n",
      "\u001b[0;31mOpenDPException\u001b[0m: \n  MakeMeasurement(\"The key-set of {\"grade_bin\"} is private and cannot be released without filtering. Please pass a filtering threshold into make_private_lazyframe.\")",
      "\u001b[0mPredicate in binary search always raises an exception. This exception is raised when the predicate is evaluated at 0.0."
     ]
    }
   ],
   "source": [
    "grade_histogram = (context.query()\n",
    "        .group_by(\"grade_bin\")\n",
    "        .agg(pl.len().dp.noise())\n",
    "        .release()\n",
    "        .collect()\n",
    "        .sort(\"grade_bin\")\n",
    ")"
   ]
  },
  {
   "cell_type": "markdown",
   "metadata": {},
   "source": []
  }
 ],
 "metadata": {
  "kernelspec": {
   "display_name": ".venv",
   "language": "python",
   "name": "python3"
  },
  "language_info": {
   "codemirror_mode": {
    "name": "ipython",
    "version": 3
   },
   "file_extension": ".py",
   "mimetype": "text/x-python",
   "name": "python",
   "nbconvert_exporter": "python",
   "pygments_lexer": "ipython3",
   "version": "3.12.3"
  }
 },
 "nbformat": 4,
 "nbformat_minor": 2
}
