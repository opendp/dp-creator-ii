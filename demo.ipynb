{
 "cells": [
  {
   "cell_type": "markdown",
   "metadata": {},
   "source": [
    "This is just to demonstrate how the analysis will work for the POC, and also to show what the final exported notebook will look like. When that is implemented, get rid of this!\n",
    "\n",
    "First, generate a fake dataset. In the future, let's check it in and use it if the [`--demo` flag](https://github.com/opendp/dp-creator-ii/issues/7) is given."
   ]
  },
  {
   "cell_type": "code",
   "execution_count": 43,
   "metadata": {},
   "outputs": [],
   "source": [
    "import csv\n",
    "import random\n",
    "\n",
    "random.seed(0) # So the mock data will be stable across runs.\n",
    "\n",
    "def clip(n, lower, upper):\n",
    "    return max(min(n, upper), lower)\n",
    "\n",
    "csv_path = '/tmp/demo.csv'\n",
    "\n",
    "with open(csv_path, 'w', newline='') as demo_handle:\n",
    "    fields = ['student_id', 'class_year', 'hw_number', 'grade']\n",
    "    writer = csv.DictWriter(demo_handle, fieldnames=fields)\n",
    "    writer.writeheader()\n",
    "    for student_id in range(1, 50):\n",
    "        class_year = int(clip(random.gauss(2, 1), 1, 4))\n",
    "        mean_grade = random.gauss(80, 5) + class_year * 2\n",
    "        for hw_number in range(1, 10):\n",
    "            grade = int(clip(random.gauss(mean_grade, 5), 0, 100))\n",
    "            writer.writerow({\n",
    "                'student_id': student_id,\n",
    "                'class_year': class_year,\n",
    "                'hw_number': hw_number,\n",
    "                'grade': grade,\n",
    "            })"
   ]
  },
  {
   "cell_type": "markdown",
   "metadata": {},
   "source": [
    "Sanity check:"
   ]
  },
  {
   "cell_type": "code",
   "execution_count": 44,
   "metadata": {},
   "outputs": [
    {
     "data": {
      "text/html": [
       "<div><style>\n",
       ".dataframe > thead > tr,\n",
       ".dataframe > tbody > tr {\n",
       "  text-align: right;\n",
       "  white-space: pre-wrap;\n",
       "}\n",
       "</style>\n",
       "<small>shape: (441, 4)</small><table border=\"1\" class=\"dataframe\"><thead><tr><th>student_id</th><th>class_year</th><th>hw_number</th><th>grade</th></tr><tr><td>i64</td><td>i64</td><td>i64</td><td>i64</td></tr></thead><tbody><tr><td>1</td><td>2</td><td>1</td><td>87</td></tr><tr><td>1</td><td>2</td><td>2</td><td>97</td></tr><tr><td>1</td><td>2</td><td>3</td><td>82</td></tr><tr><td>1</td><td>2</td><td>4</td><td>87</td></tr><tr><td>1</td><td>2</td><td>5</td><td>84</td></tr><tr><td>&hellip;</td><td>&hellip;</td><td>&hellip;</td><td>&hellip;</td></tr><tr><td>49</td><td>1</td><td>5</td><td>83</td></tr><tr><td>49</td><td>1</td><td>6</td><td>95</td></tr><tr><td>49</td><td>1</td><td>7</td><td>80</td></tr><tr><td>49</td><td>1</td><td>8</td><td>81</td></tr><tr><td>49</td><td>1</td><td>9</td><td>84</td></tr></tbody></table></div>"
      ],
      "text/plain": [
       "shape: (441, 4)\n",
       "┌────────────┬────────────┬───────────┬───────┐\n",
       "│ student_id ┆ class_year ┆ hw_number ┆ grade │\n",
       "│ ---        ┆ ---        ┆ ---       ┆ ---   │\n",
       "│ i64        ┆ i64        ┆ i64       ┆ i64   │\n",
       "╞════════════╪════════════╪═══════════╪═══════╡\n",
       "│ 1          ┆ 2          ┆ 1         ┆ 87    │\n",
       "│ 1          ┆ 2          ┆ 2         ┆ 97    │\n",
       "│ 1          ┆ 2          ┆ 3         ┆ 82    │\n",
       "│ 1          ┆ 2          ┆ 4         ┆ 87    │\n",
       "│ 1          ┆ 2          ┆ 5         ┆ 84    │\n",
       "│ …          ┆ …          ┆ …         ┆ …     │\n",
       "│ 49         ┆ 1          ┆ 5         ┆ 83    │\n",
       "│ 49         ┆ 1          ┆ 6         ┆ 95    │\n",
       "│ 49         ┆ 1          ┆ 7         ┆ 80    │\n",
       "│ 49         ┆ 1          ┆ 8         ┆ 81    │\n",
       "│ 49         ┆ 1          ┆ 9         ┆ 84    │\n",
       "└────────────┴────────────┴───────────┴───────┘"
      ]
     },
     "execution_count": 44,
     "metadata": {},
     "output_type": "execute_result"
    }
   ],
   "source": [
    "import polars\n",
    "\n",
    "lf = polars.scan_csv(csv_path)\n",
    "lf.collect()"
   ]
  },
  {
   "cell_type": "markdown",
   "metadata": {},
   "source": [
    "TODO: Plot function from in https://github.com/opendp/dp-creator-ii/pull/35... but see farther down in the notebook: This can probably be further simplified."
   ]
  },
  {
   "cell_type": "code",
   "execution_count": 45,
   "metadata": {},
   "outputs": [],
   "source": [
    "import matplotlib.pyplot as plt\n",
    "import numpy as np\n",
    "\n",
    "\n",
    "def plot_error_bars_with_cutoff(\n",
    "    y_values, x_min_label=\"min\", x_max_label=\"max\", y_cutoff=0, y_error=0\n",
    "):\n",
    "    x_values = 0.5 + np.arange(len(y_values))\n",
    "    x_values_above = []\n",
    "    x_values_below = []\n",
    "    y_values_above = []\n",
    "    y_values_below = []\n",
    "    for x, y in zip(x_values, y_values):\n",
    "        if y < y_cutoff:\n",
    "            x_values_below.append(x)\n",
    "            y_values_below.append(y)\n",
    "        else:\n",
    "            x_values_above.append(x)\n",
    "            y_values_above.append(y)\n",
    "\n",
    "    figure, axes = plt.subplots()\n",
    "    color = \"skyblue\"\n",
    "    shared = {\n",
    "        \"width\": 0.8,\n",
    "        \"edgecolor\": color,\n",
    "        \"linewidth\": 1,\n",
    "        \"yerr\": y_error,\n",
    "    }\n",
    "    axes.bar(x_values_above, y_values_above, color=color, **shared)\n",
    "    axes.bar(x_values_below, y_values_below, color=\"white\", **shared)\n",
    "    axes.hlines([y_cutoff], 0, len(y_values), colors=[\"black\"], linestyles=[\"dotted\"])\n",
    "\n",
    "    axes.set(xlim=(0, len(y_values)), ylim=(0, max(y_values)))\n",
    "    axes.get_xaxis().set_ticks(\n",
    "        ticks=[x_values[0], x_values[-1]],\n",
    "        labels=[x_min_label, x_max_label],\n",
    "    )\n",
    "    axes.get_yaxis().set_ticks([])"
   ]
  },
  {
   "cell_type": "code",
   "execution_count": 46,
   "metadata": {},
   "outputs": [
    {
     "data": {
      "text/html": [
       "<div><style>\n",
       ".dataframe > thead > tr,\n",
       ".dataframe > tbody > tr {\n",
       "  text-align: right;\n",
       "  white-space: pre-wrap;\n",
       "}\n",
       "</style>\n",
       "<small>shape: (4, 2)</small><table border=\"1\" class=\"dataframe\"><thead><tr><th>class_year</th><th>len</th></tr><tr><td>i64</td><td>u32</td></tr></thead><tbody><tr><td>1</td><td>198</td></tr><tr><td>2</td><td>180</td></tr><tr><td>3</td><td>45</td></tr><tr><td>4</td><td>18</td></tr></tbody></table></div>"
      ],
      "text/plain": [
       "shape: (4, 2)\n",
       "┌────────────┬─────┐\n",
       "│ class_year ┆ len │\n",
       "│ ---        ┆ --- │\n",
       "│ i64        ┆ u32 │\n",
       "╞════════════╪═════╡\n",
       "│ 1          ┆ 198 │\n",
       "│ 2          ┆ 180 │\n",
       "│ 3          ┆ 45  │\n",
       "│ 4          ┆ 18  │\n",
       "└────────────┴─────┘"
      ]
     },
     "execution_count": 46,
     "metadata": {},
     "output_type": "execute_result"
    }
   ],
   "source": [
    "class_years = lf.group_by('class_year').len().collect().sort('class_year')\n",
    "class_years"
   ]
  },
  {
   "cell_type": "code",
   "execution_count": 47,
   "metadata": {},
   "outputs": [
    {
     "data": {
      "image/png": "[encoded data removed]",
      "text/plain": [
       "<Figure size 640x480 with 1 Axes>"
      ]
     },
     "metadata": {},
     "output_type": "display_data"
    }
   ],
   "source": [
    "grades = lf.group_by('grade').len().collect().sort('grade')\n",
    "min_grade = 0\n",
    "max_grade = 100\n",
    "df_0_100 = polars.from_dict({'grade': range(min_grade, max_grade+1)})\n",
    "grades_0_100 = df_0_100.join(grades, on='grade', how='left').select(['len']).fill_null(0)\n",
    "plot_error_bars_with_cutoff(grades_0_100.to_series().to_list(), min_grade, max_grade)"
   ]
  },
  {
   "cell_type": "markdown",
   "metadata": {},
   "source": [
    "## _Proposed generated notebook starts below!_\n",
    "\n",
    "---"
   ]
  },
  {
   "cell_type": "markdown",
   "metadata": {},
   "source": [
    "# Introduction to Differential Privacy with OpenDP\n",
    "\n",
    "This notebook will demonstrate how to make a differentially private release with [OpenDP](https://docs.opendp.org) using the data you've provided. The OpenDP API has many more options than we can expose in a UI, and this notebook will suggest some options to explore.\n",
    "\n",
    "The concept of a privacy budget is important in DP. Interactively developing DP analyses is a good practice, for example, to identify variables of interest before choosing where to spend the rest of a finite privacy budget. That said, it is important to track the total budget consumed: It would not be good to run a cell in this notebook, look at output, and then run it again, without tracking the privacy consumed by each operaion.\n",
    "\n",
    "We begin with a conventional set of imports:"
   ]
  },
  {
   "cell_type": "code",
   "execution_count": 48,
   "metadata": {},
   "outputs": [],
   "source": [
    "# Uncomment if you have not already installed OpenDP:\n",
    "# %pip install opendp==0.11.1\n",
    "\n",
    "# OpenDP extends the Polars dataframe library:\n",
    "import polars as pl\n",
    "# Conventional import for OpenDP:\n",
    "import opendp.prelude as dp\n",
    "\n",
    "# OpenDP plans to offer a set algorithms that have been formally reviewed for correctness.\n",
    "# Until that is complete, we need to opt-in to \"contributed\" features:\n",
    "dp.enable_features(\"contrib\")"
   ]
  },
  {
   "cell_type": "markdown",
   "metadata": {},
   "source": [
    "Next, the information that was provided in the UI:"
   ]
  },
  {
   "cell_type": "code",
   "execution_count": 49,
   "metadata": {},
   "outputs": [],
   "source": [
    "# Information you've provided that applies to the whole calculation:\n",
    "csv_path = '/tmp/demo.csv'\n",
    "contributions = 10\n",
    "epsilon = 2\n",
    "weights = [4, 4, 1, 1]\n",
    "max_possible_rows = 1000000 \n",
    "delta = 1e-7\n",
    "\n",
    "# Information you've provided for the \"grade\" column:\n",
    "grade_min = 50\n",
    "grade_max = 100\n",
    "grade_bins_count = 10\n",
    "\n",
    "grade_bins_list = list(range(\n",
    "    grade_min,\n",
    "    grade_max,\n",
    "    int((grade_max - grade_min + 1) / grade_bins_count)\n",
    "))\n",
    "\n",
    "# Information you've provided for the \"class_year\" column:\n",
    "class_year_min = 1\n",
    "class_year_max = 4\n",
    "class_year_bins_count = 4\n",
    "\n",
    "class_year_bins_list = list(range(\n",
    "    class_year_min,\n",
    "    class_year_max,\n",
    "    int((class_year_max - class_year_min + 1) / class_year_bins_count)\n",
    "))"
   ]
  },
  {
   "cell_type": "markdown",
   "metadata": {},
   "source": [
    "Finally, define a [`Context`](https://docs.opendp.org/en/stable/api/user-guide/context/index.html) using the provided information."
   ]
  },
  {
   "cell_type": "code",
   "execution_count": 50,
   "metadata": {},
   "outputs": [],
   "source": [
    "context = dp.Context.compositor(\n",
    "    data=pl.scan_csv(csv_path, encoding=\"utf8-lossy\").with_columns(\n",
    "        # The cut() method returns a Polars categorical type.\n",
    "        # Cast to string to get the human-readable label.\n",
    "        pl.col(\"grade\").cut(grade_bins_list).alias(\"grade_bin\").cast(pl.String),\n",
    "        pl.col(\"class_year\").cut(class_year_bins_list).alias(\"class_year_bin\").cast(pl.String)\n",
    "    ),\n",
    "    privacy_unit=dp.unit_of(contributions=contributions),\n",
    "    privacy_loss=dp.loss_of(epsilon=epsilon, delta=delta),\n",
    "    split_by_weights=weights,\n",
    "    margins={\n",
    "        (): dp.polars.Margin(\n",
    "            max_partition_length=max_possible_rows,\n",
    "            # To calculate the mean, we need to know the total number of entries,\n",
    "            # but this is not by default public information. We must opt-in:\n",
    "            public_info=\"lengths\",\n",
    "        ),\n",
    "        # For the histograms we need more information: The keys we are grouping by.\n",
    "        (\"grade_bin\",): dp.polars.Margin(\n",
    "            max_partition_length=max_possible_rows,\n",
    "            public_info=\"keys\",\n",
    "        ),\n",
    "        (\"class_year_bin\",): dp.polars.Margin(\n",
    "            max_partition_length=max_possible_rows,\n",
    "            public_info=\"keys\",\n",
    "        ),\n",
    "\n",
    "    },\n",
    ")"
   ]
  },
  {
   "cell_type": "markdown",
   "metadata": {},
   "source": [
    "(A note on `utf8-lossy`: CSVs can use different \"character encodings\" to represent characters outside the plain ASCII character set, but out of the box the Polars library only supports UTF8. Specifying `utf8-lossy` preserves as much information as possible, and any unrecognized characters will be replaced by \"�\". If this is not sufficient, you will need to preprocess your data to reencode it as UTF8.)\n",
    "\n",
    "Before making the DP release, let's define helper functions to render the histograms."
   ]
  },
  {
   "cell_type": "code",
   "execution_count": 51,
   "metadata": {},
   "outputs": [],
   "source": [
    "def df_to_dict(df):\n",
    "    return {\n",
    "        # The name of the key will vary, so just get the first value.\n",
    "        list(range_len.values())[0]: range_len['len']\n",
    "        for range_len in df.to_dicts()\n",
    "    }\n",
    "\n",
    "import matplotlib.pyplot as plt\n",
    "\n",
    "def plot_histogram(histogram_df, cutoff):\n",
    "    # TODO: Error bars\n",
    "    # TODO: Actually use cutoff\n",
    "    histogram_dict = df_to_dict(histogram_df)\n",
    "    labels, values = zip(*histogram_dict.items())\n",
    "    fig, ax = plt.subplots()\n",
    "    ax.bar(labels, values, color=['blue' if v > cutoff else 'lightblue' for v in values])"
   ]
  },
  {
   "cell_type": "markdown",
   "metadata": {},
   "source": [
    "## `grade` stats"
   ]
  },
  {
   "cell_type": "code",
   "execution_count": 52,
   "metadata": {},
   "outputs": [
    {
     "data": {
      "text/html": [
       "<div><style>\n",
       ".dataframe > thead > tr,\n",
       ".dataframe > tbody > tr {\n",
       "  text-align: right;\n",
       "  white-space: pre-wrap;\n",
       "}\n",
       "</style>\n",
       "<small>shape: (1, 1)</small><table border=\"1\" class=\"dataframe\"><thead><tr><th>grade</th></tr><tr><td>f64</td></tr></thead><tbody><tr><td>83.111111</td></tr></tbody></table></div>"
      ],
      "text/plain": [
       "shape: (1, 1)\n",
       "┌───────────┐\n",
       "│ grade     │\n",
       "│ ---       │\n",
       "│ f64       │\n",
       "╞═══════════╡\n",
       "│ 83.111111 │\n",
       "└───────────┘"
      ]
     },
     "execution_count": 52,
     "metadata": {},
     "output_type": "execute_result"
    }
   ],
   "source": [
    "grade_mean = context.query().select(\n",
    "    pl.col(\"grade\").fill_null(0).dp.mean(bounds=(grade_min, grade_max))\n",
    ").release().collect()\n",
    "grade_mean"
   ]
  },
  {
   "cell_type": "code",
   "execution_count": 53,
   "metadata": {},
   "outputs": [
    {
     "data": {
      "text/html": [
       "<div><style>\n",
       ".dataframe > thead > tr,\n",
       ".dataframe > tbody > tr {\n",
       "  text-align: right;\n",
       "  white-space: pre-wrap;\n",
       "}\n",
       "</style>\n",
       "<small>shape: (9, 2)</small><table border=\"1\" class=\"dataframe\"><thead><tr><th>grade_bin</th><th>len</th></tr><tr><td>str</td><td>u32</td></tr></thead><tbody><tr><td>&quot;(50, 55]&quot;</td><td>0</td></tr><tr><td>&quot;(60, 65]&quot;</td><td>0</td></tr><tr><td>&quot;(65, 70]&quot;</td><td>31</td></tr><tr><td>&quot;(70, 75]&quot;</td><td>69</td></tr><tr><td>&quot;(75, 80]&quot;</td><td>70</td></tr><tr><td>&quot;(80, 85]&quot;</td><td>113</td></tr><tr><td>&quot;(85, 90]&quot;</td><td>113</td></tr><tr><td>&quot;(90, 95]&quot;</td><td>65</td></tr><tr><td>&quot;(95, inf]&quot;</td><td>27</td></tr></tbody></table></div>"
      ],
      "text/plain": [
       "shape: (9, 2)\n",
       "┌───────────┬─────┐\n",
       "│ grade_bin ┆ len │\n",
       "│ ---       ┆ --- │\n",
       "│ str       ┆ u32 │\n",
       "╞═══════════╪═════╡\n",
       "│ (50, 55]  ┆ 0   │\n",
       "│ (60, 65]  ┆ 0   │\n",
       "│ (65, 70]  ┆ 31  │\n",
       "│ (70, 75]  ┆ 69  │\n",
       "│ (75, 80]  ┆ 70  │\n",
       "│ (80, 85]  ┆ 113 │\n",
       "│ (85, 90]  ┆ 113 │\n",
       "│ (90, 95]  ┆ 65  │\n",
       "│ (95, inf] ┆ 27  │\n",
       "└───────────┴─────┘"
      ]
     },
     "execution_count": 53,
     "metadata": {},
     "output_type": "execute_result"
    }
   ],
   "source": [
    "grade_histogram = (context.query()\n",
    "        .group_by(\"grade_bin\")\n",
    "        .agg(pl.len().dp.noise())\n",
    "        .release()\n",
    "        .collect()\n",
    "        .sort(\"grade_bin\")\n",
    ")\n",
    "grade_histogram"
   ]
  },
  {
   "cell_type": "code",
   "execution_count": 54,
   "metadata": {},
   "outputs": [
    {
     "data": {
      "image/png": "[encoded data removed]",
      "text/plain": [
       "<Figure size 640x480 with 1 Axes>"
      ]
     },
     "metadata": {},
     "output_type": "display_data"
    }
   ],
   "source": [
    "plot_histogram(grade_histogram, 0)"
   ]
  },
  {
   "cell_type": "markdown",
   "metadata": {},
   "source": [
    "## `class_year` stats"
   ]
  },
  {
   "cell_type": "code",
   "execution_count": 55,
   "metadata": {},
   "outputs": [
    {
     "data": {
      "text/html": [
       "<div><style>\n",
       ".dataframe > thead > tr,\n",
       ".dataframe > tbody > tr {\n",
       "  text-align: right;\n",
       "  white-space: pre-wrap;\n",
       "}\n",
       "</style>\n",
       "<small>shape: (1, 1)</small><table border=\"1\" class=\"dataframe\"><thead><tr><th>class_year</th></tr><tr><td>f64</td></tr></thead><tbody><tr><td>1.739229</td></tr></tbody></table></div>"
      ],
      "text/plain": [
       "shape: (1, 1)\n",
       "┌────────────┐\n",
       "│ class_year │\n",
       "│ ---        │\n",
       "│ f64        │\n",
       "╞════════════╡\n",
       "│ 1.739229   │\n",
       "└────────────┘"
      ]
     },
     "execution_count": 55,
     "metadata": {},
     "output_type": "execute_result"
    }
   ],
   "source": [
    "class_year_mean = context.query().select(\n",
    "    pl.col(\"class_year\").fill_null(0).dp.mean(bounds=(class_year_min, class_year_max))\n",
    ").release().collect()\n",
    "class_year_mean"
   ]
  },
  {
   "cell_type": "code",
   "execution_count": 56,
   "metadata": {},
   "outputs": [
    {
     "data": {
      "text/html": [
       "<div><style>\n",
       ".dataframe > thead > tr,\n",
       ".dataframe > tbody > tr {\n",
       "  text-align: right;\n",
       "  white-space: pre-wrap;\n",
       "}\n",
       "</style>\n",
       "<small>shape: (4, 2)</small><table border=\"1\" class=\"dataframe\"><thead><tr><th>class_year_bin</th><th>len</th></tr><tr><td>str</td><td>u32</td></tr></thead><tbody><tr><td>&quot;(-inf, 1]&quot;</td><td>230</td></tr><tr><td>&quot;(1, 2]&quot;</td><td>181</td></tr><tr><td>&quot;(2, 3]&quot;</td><td>49</td></tr><tr><td>&quot;(3, inf]&quot;</td><td>0</td></tr></tbody></table></div>"
      ],
      "text/plain": [
       "shape: (4, 2)\n",
       "┌────────────────┬─────┐\n",
       "│ class_year_bin ┆ len │\n",
       "│ ---            ┆ --- │\n",
       "│ str            ┆ u32 │\n",
       "╞════════════════╪═════╡\n",
       "│ (-inf, 1]      ┆ 230 │\n",
       "│ (1, 2]         ┆ 181 │\n",
       "│ (2, 3]         ┆ 49  │\n",
       "│ (3, inf]       ┆ 0   │\n",
       "└────────────────┴─────┘"
      ]
     },
     "execution_count": 56,
     "metadata": {},
     "output_type": "execute_result"
    }
   ],
   "source": [
    "class_year_histogram = (context.query()\n",
    "        .group_by(\"class_year_bin\")\n",
    "        .agg(pl.len().dp.noise())\n",
    "        .release()\n",
    "        .collect()\n",
    "        .sort(\"class_year_bin\")\n",
    ")\n",
    "class_year_histogram"
   ]
  },
  {
   "cell_type": "code",
   "execution_count": 57,
   "metadata": {},
   "outputs": [
    {
     "data": {
      "image/png": "[encoded data removed]",
      "text/plain": [
       "<Figure size 640x480 with 1 Axes>"
      ]
     },
     "metadata": {},
     "output_type": "display_data"
    }
   ],
   "source": [
    "plot_histogram(class_year_histogram, 0)"
   ]
  },
  {
   "cell_type": "markdown",
   "metadata": {},
   "source": [
    "At this point, the privacy budget configured at the start with `epsilon` and `weights` is exhausted, and attempting to make another release will result in an error."
   ]
  },
  {
   "cell_type": "markdown",
   "metadata": {},
   "source": [
    "---\n",
    "\n",
    "# Other exports\n",
    "\n",
    "Below is a proposal for what the other export formats (text and CSV) would look like. We first make a data structure with everything we need, and then use generic methods to serialize that structure."
   ]
  },
  {
   "cell_type": "code",
   "execution_count": 58,
   "metadata": {},
   "outputs": [
    {
     "data": {
      "text/plain": [
       "{'inputs': {'csv_path': '/tmp/demo.csv',\n",
       "  'contributions': 10,\n",
       "  'epsilon': 2,\n",
       "  'weights': [4, 4, 1, 1],\n",
       "  'max_possible_rows': 1000000,\n",
       "  'delta': 1e-07,\n",
       "  'grade': {'min': 50, 'max': 100, 'bins_count': 10},\n",
       "  'class_year': {'min': 1, 'max': 4, 'bins_count': 4}},\n",
       " 'outputs': {'grade': {'mean': 83.11111111111111,\n",
       "   'histogram': {'(50, 55]': 0,\n",
       "    '(60, 65]': 0,\n",
       "    '(65, 70]': 31,\n",
       "    '(70, 75]': 69,\n",
       "    '(75, 80]': 70,\n",
       "    '(80, 85]': 113,\n",
       "    '(85, 90]': 113,\n",
       "    '(90, 95]': 65,\n",
       "    '(95, inf]': 27}},\n",
       "  'class_year': {'mean': 1.7392290249433107,\n",
       "   'histogram': {'(-inf, 1]': 230,\n",
       "    '(1, 2]': 181,\n",
       "    '(2, 3]': 49,\n",
       "    '(3, inf]': 0}}}}"
      ]
     },
     "execution_count": 58,
     "metadata": {},
     "output_type": "execute_result"
    }
   ],
   "source": [
    "release = {\n",
    "    'inputs': {\n",
    "        'csv_path': csv_path,\n",
    "        'contributions': contributions,\n",
    "        'epsilon': epsilon,\n",
    "        'weights': weights,\n",
    "        'max_possible_rows': max_possible_rows,\n",
    "        'delta': delta,\n",
    "        'grade': {\n",
    "            'min': grade_min,\n",
    "            'max': grade_max,\n",
    "            'bins_count': grade_bins_count,\n",
    "        },\n",
    "        'class_year': {\n",
    "            'min': class_year_min,\n",
    "            'max': class_year_max,\n",
    "            'bins_count': class_year_bins_count,\n",
    "        }    \n",
    "    },\n",
    "    'outputs': {\n",
    "        'grade': {\n",
    "            'mean': grade_mean.item(),\n",
    "            'histogram': {v['grade_bin']: v['len'] for v in grade_histogram.to_dicts()}\n",
    "        },\n",
    "        'class_year': {\n",
    "            'mean': class_year_mean.item(),\n",
    "            'histogram': {v['class_year_bin']: v['len'] for v in class_year_histogram.to_dicts()}\n",
    "        },\n",
    "    }\n",
    "}\n",
    "release"
   ]
  },
  {
   "cell_type": "markdown",
   "metadata": {},
   "source": [
    "### Text export?\n",
    "\n",
    "Just use YAML, unless there are other requirements?"
   ]
  },
  {
   "cell_type": "code",
   "execution_count": 59,
   "metadata": {},
   "outputs": [
    {
     "name": "stdout",
     "output_type": "stream",
     "text": [
      "inputs:\n",
      "  class_year:\n",
      "    bins_count: 4\n",
      "    max: 4\n",
      "    min: 1\n",
      "  contributions: 10\n",
      "  csv_path: /tmp/demo.csv\n",
      "  delta: 1.0e-07\n",
      "  epsilon: 2\n",
      "  grade:\n",
      "    bins_count: 10\n",
      "    max: 100\n",
      "    min: 50\n",
      "  max_possible_rows: 1000000\n",
      "  weights:\n",
      "  - 4\n",
      "  - 4\n",
      "  - 1\n",
      "  - 1\n",
      "outputs:\n",
      "  class_year:\n",
      "    histogram:\n",
      "      (-inf, 1]: 230\n",
      "      (1, 2]: 181\n",
      "      (2, 3]: 49\n",
      "      (3, inf]: 0\n",
      "    mean: 1.7392290249433107\n",
      "  grade:\n",
      "    histogram:\n",
      "      (50, 55]: 0\n",
      "      (60, 65]: 0\n",
      "      (65, 70]: 31\n",
      "      (70, 75]: 69\n",
      "      (75, 80]: 70\n",
      "      (80, 85]: 113\n",
      "      (85, 90]: 113\n",
      "      (90, 95]: 65\n",
      "      (95, inf]: 27\n",
      "    mean: 83.11111111111111\n",
      "\n"
     ]
    }
   ],
   "source": [
    "import yaml\n",
    "\n",
    "print(yaml.dump(release))"
   ]
  },
  {
   "cell_type": "markdown",
   "metadata": {},
   "source": [
    "### CSV export?\n",
    "\n",
    "Flatten the data stucture to key value pairs and make a two-column CSV unless there are other requirements?"
   ]
  },
  {
   "cell_type": "code",
   "execution_count": 60,
   "metadata": {},
   "outputs": [
    {
     "data": {
      "text/html": [
       "<div>\n",
       "<style scoped>\n",
       "    .dataframe tbody tr th:only-of-type {\n",
       "        vertical-align: middle;\n",
       "    }\n",
       "\n",
       "    .dataframe tbody tr th {\n",
       "        vertical-align: top;\n",
       "    }\n",
       "\n",
       "    .dataframe thead th {\n",
       "        text-align: right;\n",
       "    }\n",
       "</style>\n",
       "<table border=\"1\" class=\"dataframe\">\n",
       "  <thead>\n",
       "    <tr style=\"text-align: right;\">\n",
       "      <th></th>\n",
       "      <th>0</th>\n",
       "    </tr>\n",
       "  </thead>\n",
       "  <tbody>\n",
       "    <tr>\n",
       "      <th>inputs.csv_path</th>\n",
       "      <td>/tmp/demo.csv</td>\n",
       "    </tr>\n",
       "    <tr>\n",
       "      <th>inputs.contributions</th>\n",
       "      <td>10</td>\n",
       "    </tr>\n",
       "    <tr>\n",
       "      <th>inputs.epsilon</th>\n",
       "      <td>2</td>\n",
       "    </tr>\n",
       "    <tr>\n",
       "      <th>inputs.weights</th>\n",
       "      <td>[4, 4, 1, 1]</td>\n",
       "    </tr>\n",
       "    <tr>\n",
       "      <th>inputs.max_possible_rows</th>\n",
       "      <td>1000000</td>\n",
       "    </tr>\n",
       "    <tr>\n",
       "      <th>inputs.delta</th>\n",
       "      <td>0.0</td>\n",
       "    </tr>\n",
       "    <tr>\n",
       "      <th>inputs.grade.min</th>\n",
       "      <td>50</td>\n",
       "    </tr>\n",
       "    <tr>\n",
       "      <th>inputs.grade.max</th>\n",
       "      <td>100</td>\n",
       "    </tr>\n",
       "    <tr>\n",
       "      <th>inputs.grade.bins_count</th>\n",
       "      <td>10</td>\n",
       "    </tr>\n",
       "    <tr>\n",
       "      <th>inputs.class_year.min</th>\n",
       "      <td>1</td>\n",
       "    </tr>\n",
       "    <tr>\n",
       "      <th>inputs.class_year.max</th>\n",
       "      <td>4</td>\n",
       "    </tr>\n",
       "    <tr>\n",
       "      <th>inputs.class_year.bins_count</th>\n",
       "      <td>4</td>\n",
       "    </tr>\n",
       "    <tr>\n",
       "      <th>outputs.grade.mean</th>\n",
       "      <td>83.111111</td>\n",
       "    </tr>\n",
       "    <tr>\n",
       "      <th>outputs.grade.histogram.(50, 55]</th>\n",
       "      <td>0</td>\n",
       "    </tr>\n",
       "    <tr>\n",
       "      <th>outputs.grade.histogram.(60, 65]</th>\n",
       "      <td>0</td>\n",
       "    </tr>\n",
       "    <tr>\n",
       "      <th>outputs.grade.histogram.(65, 70]</th>\n",
       "      <td>31</td>\n",
       "    </tr>\n",
       "    <tr>\n",
       "      <th>outputs.grade.histogram.(70, 75]</th>\n",
       "      <td>69</td>\n",
       "    </tr>\n",
       "    <tr>\n",
       "      <th>outputs.grade.histogram.(75, 80]</th>\n",
       "      <td>70</td>\n",
       "    </tr>\n",
       "    <tr>\n",
       "      <th>outputs.grade.histogram.(80, 85]</th>\n",
       "      <td>113</td>\n",
       "    </tr>\n",
       "    <tr>\n",
       "      <th>outputs.grade.histogram.(85, 90]</th>\n",
       "      <td>113</td>\n",
       "    </tr>\n",
       "    <tr>\n",
       "      <th>outputs.grade.histogram.(90, 95]</th>\n",
       "      <td>65</td>\n",
       "    </tr>\n",
       "    <tr>\n",
       "      <th>outputs.grade.histogram.(95, inf]</th>\n",
       "      <td>27</td>\n",
       "    </tr>\n",
       "    <tr>\n",
       "      <th>outputs.class_year.mean</th>\n",
       "      <td>1.739229</td>\n",
       "    </tr>\n",
       "    <tr>\n",
       "      <th>outputs.class_year.histogram.(-inf, 1]</th>\n",
       "      <td>230</td>\n",
       "    </tr>\n",
       "    <tr>\n",
       "      <th>outputs.class_year.histogram.(1, 2]</th>\n",
       "      <td>181</td>\n",
       "    </tr>\n",
       "    <tr>\n",
       "      <th>outputs.class_year.histogram.(2, 3]</th>\n",
       "      <td>49</td>\n",
       "    </tr>\n",
       "    <tr>\n",
       "      <th>outputs.class_year.histogram.(3, inf]</th>\n",
       "      <td>0</td>\n",
       "    </tr>\n",
       "  </tbody>\n",
       "</table>\n",
       "</div>"
      ],
      "text/plain": [
       "                                                    0\n",
       "inputs.csv_path                         /tmp/demo.csv\n",
       "inputs.contributions                               10\n",
       "inputs.epsilon                                      2\n",
       "inputs.weights                           [4, 4, 1, 1]\n",
       "inputs.max_possible_rows                      1000000\n",
       "inputs.delta                                      0.0\n",
       "inputs.grade.min                                   50\n",
       "inputs.grade.max                                  100\n",
       "inputs.grade.bins_count                            10\n",
       "inputs.class_year.min                               1\n",
       "inputs.class_year.max                               4\n",
       "inputs.class_year.bins_count                        4\n",
       "outputs.grade.mean                          83.111111\n",
       "outputs.grade.histogram.(50, 55]                    0\n",
       "outputs.grade.histogram.(60, 65]                    0\n",
       "outputs.grade.histogram.(65, 70]                   31\n",
       "outputs.grade.histogram.(70, 75]                   69\n",
       "outputs.grade.histogram.(75, 80]                   70\n",
       "outputs.grade.histogram.(80, 85]                  113\n",
       "outputs.grade.histogram.(85, 90]                  113\n",
       "outputs.grade.histogram.(90, 95]                   65\n",
       "outputs.grade.histogram.(95, inf]                  27\n",
       "outputs.class_year.mean                      1.739229\n",
       "outputs.class_year.histogram.(-inf, 1]            230\n",
       "outputs.class_year.histogram.(1, 2]               181\n",
       "outputs.class_year.histogram.(2, 3]                49\n",
       "outputs.class_year.histogram.(3, inf]               0"
      ]
     },
     "execution_count": 60,
     "metadata": {},
     "output_type": "execute_result"
    }
   ],
   "source": [
    "from pandas import json_normalize\n",
    "\n",
    "json_normalize(release).transpose()"
   ]
  }
 ],
 "metadata": {
  "kernelspec": {
   "display_name": ".venv",
   "language": "python",
   "name": "python3"
  },
  "language_info": {
   "codemirror_mode": {
    "name": "ipython",
    "version": 3
   },
   "file_extension": ".py",
   "mimetype": "text/x-python",
   "name": "python",
   "nbconvert_exporter": "python",
   "pygments_lexer": "ipython3",
   "version": "3.12.3"
  }
 },
 "nbformat": 4,
 "nbformat_minor": 2
}
